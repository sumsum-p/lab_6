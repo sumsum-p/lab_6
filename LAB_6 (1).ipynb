{
  "metadata": {
    "kernelspec": {
      "name": "python",
      "display_name": "Python (Pyodide)",
      "language": "python"
    },
    "language_info": {
      "codemirror_mode": {
        "name": "python",
        "version": 3
      },
      "file_extension": ".py",
      "mimetype": "text/x-python",
      "name": "python",
      "nbconvert_exporter": "python",
      "pygments_lexer": "ipython3",
      "version": "3.8"
    }
  },
  "nbformat_minor": 5,
  "nbformat": 4,
  "cells": [
    {
      "id": "81c6f7d3-b7c4-4757-8f21-1922e7050afd",
      "cell_type": "code",
      "source": "from functools import reduce  \n\nnumbers = [2, 3, 4, 5]  \n\nresult = reduce(lambda x, y: x * y, numbers)  \nprint(\"Произведение:\", result)  \n",
      "metadata": {
        "trusted": true
      },
      "outputs": [
        {
          "name": "stdout",
          "output_type": "stream",
          "text": "Произведение всех чисел в списке: 120\n"
        }
      ],
      "execution_count": 2
    },
    {
      "id": "f503720e-ccfa-4c38-a55b-808aa264fc6e",
      "cell_type": "code",
      "source": "text = \"Hello World!\"  \n\nupper_count = sum(1 for char in text if char.isupper())  \nlower_count = sum(1 for char in text if char.islower())  \n\nprint(\"Количество заглавных букв:\", upper_count)  \nprint(\"Количество строчных букв:\", lower_count)  \n",
      "metadata": {
        "trusted": true
      },
      "outputs": [
        {
          "name": "stdout",
          "output_type": "stream",
          "text": "Количество заглавных букв: 2\nКоличество строчных букв: 8\n"
        }
      ],
      "execution_count": 3
    },
    {
      "id": "a0c33907-072e-4611-b8e6-944922e9c6dd",
      "cell_type": "code",
      "source": "def is_palindrome(s):  \n    return s == s[::-1]  \n\nword = \"level\"  \nprint(is_palindrome(word))  \n",
      "metadata": {
        "trusted": true
      },
      "outputs": [
        {
          "name": "stdout",
          "output_type": "stream",
          "text": "True\n"
        }
      ],
      "execution_count": 4
    },
    {
      "id": "f32628ba-4f48-4ba1-8eb8-fa67f6efc08d",
      "cell_type": "code",
      "source": "values = (True, True, False)  \nresult = all(values)  \nprint(\"Все ли элементы кортежа истинны:\", result)  \n",
      "metadata": {
        "trusted": true
      },
      "outputs": [],
      "execution_count": null
    },
    {
      "id": "e69a51cb-4b86-4e42-adde-11ca6fe233c8",
      "cell_type": "code",
      "source": "import time  \nimport math  \n\nnumber = 25100  \ndelay = 2123  \n\ntime.sleep(delay/1000)   \nresult = math.sqrt(number)  \nprint(f\"Квадратный корень из {number} после {delay} миллисекунд: {result}\")  \n",
      "metadata": {
        "trusted": true
      },
      "outputs": [],
      "execution_count": null
    },
    {
      "id": "1c3930d4-728d-4ec2-b472-c14841d2c1b5",
      "cell_type": "code",
      "source": "",
      "metadata": {
        "trusted": true
      },
      "outputs": [],
      "execution_count": null
    }
  ]
}