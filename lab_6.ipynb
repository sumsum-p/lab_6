{
  "metadata": {
    "kernelspec": {
      "name": "python",
      "display_name": "Python (Pyodide)",
      "language": "python"
    },
    "language_info": {
      "codemirror_mode": {
        "name": "python",
        "version": 3
      },
      "file_extension": ".py",
      "mimetype": "text/x-python",
      "name": "python",
      "nbconvert_exporter": "python",
      "pygments_lexer": "ipython3",
      "version": "3.8"
    }
  },
  "nbformat_minor": 5,
  "nbformat": 4,
  "cells": [
    {
      "id": "852bf8df-b08d-4cc2-a8d3-f264f2a6fa74",
      "cell_type": "code",
      "source": "import os  \n\ndef list_contents(path=\".\"):  \n    all_items = os.listdir(path)  \n    directories = [] \n    files = []  \n\n    for item in all_items:\n        full_path = os.path.join(path, item)  \n\n        if os.path.isdir(full_path):  \n            directories.append(item) \n        elif os.path.isfile(full_path):  \n            files.append(item) \n\n    print(\"Папки:\", directories)  \n    print(\"Файлы:\", files)  \n    print(\"Все элементы:\", all_items) \n\nlist_contents(\".\")  \n",
      "metadata": {
        "trusted": true
      },
      "outputs": [],
      "execution_count": 2
    },
    {
      "id": "ee386014-c587-4754-bfaa-f26aa1e42f3d",
      "cell_type": "code",
      "source": "import os \n\ndef check_access(path):  \n    print(\"Существует ли путь?\", os.path.exists(path)) \n    print(\"Можно ли читать?\", os.access(path, os.R_OK))  \n    print(\"Можно ли записывать?\", os.access(path, os.W_OK))  \n    print(\"Можно ли выполнять?\", os.access(path, os.X_OK)) \n\ncheck_access(\"test.txt\") ",
      "metadata": {
        "trusted": true
      },
      "outputs": [
        {
          "name": "stdout",
          "output_type": "stream",
          "text": "Существует ли путь? False\nМожно ли читать? False\nМожно ли записывать? False\nМожно ли выполнять? False\n"
        }
      ],
      "execution_count": 3
    },
    {
      "id": "2227c95f-377d-4077-9aa1-7d2a1a83ae07",
      "cell_type": "code",
      "source": "import os \n\ndef path_info(path): \n    if os.path.exists(path): \n        print(f\"Путь существует: {path}\")\n        print(f\"Имя файла: {os.path.basename(path)}\")  \n        print(f\"Имя папки: {os.path.dirname(path)}\")  \n    else:\n        print(\"Путь не существует\")\n\npath_info(\"example.txt\")  \n",
      "metadata": {
        "trusted": true
      },
      "outputs": [
        {
          "name": "stdout",
          "output_type": "stream",
          "text": "Путь не существует\n"
        }
      ],
      "execution_count": 4
    },
    {
      "id": "1f33d1d0-a01d-40d6-a8ed-474a200d54aa",
      "cell_type": "code",
      "source": "filename = \"sample.txt\"  \n\ntry:\n    file = open(filename, \"r\")  \n    lines = file.readlines() \n    print(\"Всего строк:\", len(lines))  \n    file.close()  \nexcept FileNotFoundError:\n    print(\"Файл не найден\") \n",
      "metadata": {
        "trusted": true
      },
      "outputs": [
        {
          "name": "stdout",
          "output_type": "stream",
          "text": "Файл не найден\n"
        }
      ],
      "execution_count": 5
    },
    {
      "id": "03892248-c830-4b93-81f0-11894280765d",
      "cell_type": "code",
      "source": "def write_list_to_file(filename, data):\n    with open(filename, 'w') as file: \n        file.writelines(\"\\n\".join(data)) \n    print(f\"Список записан в {filename}\")\n\ndata = [\"Python\", \"1\", \"2\"] \nwrite_list_to_file(\"output.txt\", data)",
      "metadata": {
        "trusted": true
      },
      "outputs": [],
      "execution_count": null
    },
    {
      "id": "366b9681-63f1-4709-8951-676f3709cfa3",
      "cell_type": "code",
      "source": "import string \n\ndef create_alphabet_files(): \n    for letter in string.ascii_uppercase: \n        filename = f\"{letter}.txt\"  \n        with open(filename, 'w') as file: \n            file.write(f\"Это файл {filename}\\n\") \n\ncreate_alphabet_files()  \n",
      "metadata": {
        "trusted": true
      },
      "outputs": [],
      "execution_count": null
    },
    {
      "id": "6400155e-09f4-4eaa-aa45-9cff76d58147",
      "cell_type": "code",
      "source": "def copy_file(source, destination): \n    try:\n        with open(source, 'r') as src, open(destination, 'w') as dest:\n            dest.write(src.read())  # Копируем содержимое\n        print(f\"{source} скопирован в {destination}\")\n    except FileNotFoundError:\n        print(\"Исходный файл не найден\")\n\ncopy_file(\"source.txt\", \"destination.txt\")",
      "metadata": {
        "trusted": true
      },
      "outputs": [
        {
          "name": "stdout",
          "output_type": "stream",
          "text": "Исходный файл не найден\n"
        }
      ],
      "execution_count": 8
    },
    {
      "id": "d4dbbd60-c32f-4aca-abb7-8af0c6d43644",
      "cell_type": "code",
      "source": "import os  \n\ndef delete_file(path):  \n    if os.path.exists(path):  \n        if os.access(path, os.W_OK):  \n            os.remove(path)  \n            print(f\"Файл {path} удалён\")  \n        else:  \n            print(\"Нет прав на удаление\")  \n    else:  \n        print(\"Файл не найден\")  \n\ndelete_file(\"delete_me.txt\")  \n",
      "metadata": {
        "trusted": true
      },
      "outputs": [
        {
          "name": "stdout",
          "output_type": "stream",
          "text": "Файл не найден\n"
        }
      ],
      "execution_count": 9
    },
    {
      "id": "33dfacc5-0680-4f4f-acdc-e19ec4138d13",
      "cell_type": "code",
      "source": "",
      "metadata": {
        "trusted": true
      },
      "outputs": [],
      "execution_count": null
    }
  ]
}